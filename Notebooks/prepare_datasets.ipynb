{
 "cells": [
  {
   "cell_type": "code",
   "execution_count": 2,
   "metadata": {
    "collapsed": true
   },
   "outputs": [],
   "source": [
    "import pandas as pd\n",
    "import numpy as np\n",
    "from pathlib import Path"
   ]
  },
  {
   "cell_type": "code",
   "execution_count": 29,
   "outputs": [],
   "source": [
    "data_root = Path('/pio/scratch/1/recommender_systems/')\n",
    "project_root = Path('/pio/scratch/1/i308362/NGCF/')"
   ],
   "metadata": {
    "collapsed": false,
    "pycharm": {
     "name": "#%%\n"
    }
   }
  },
  {
   "cell_type": "code",
   "execution_count": 23,
   "outputs": [],
   "source": [
    "def create_k_core(pdf, k, k_users=None, k_items=None):\n",
    "    if k_users is None:\n",
    "        k_users = k\n",
    "    if k_items is None:\n",
    "        k_items = k\n",
    "\n",
    "    while np.any(pdf['asin'].value_counts() < k_items) or np.any(pdf['reviewerID'].value_counts() < k_users):\n",
    "        items_to_keep = pdf['asin'].value_counts().where(lambda x: x >= k_items).dropna().index\n",
    "        users_to_keep = pdf['reviewerID'].value_counts().where(lambda x: x >= k_users).dropna().index\n",
    "        pdf = pdf[pdf['asin'].isin(items_to_keep) & pdf['reviewerID'].isin(users_to_keep)]\n",
    "\n",
    "    return pdf"
   ],
   "metadata": {
    "collapsed": false,
    "pycharm": {
     "name": "#%%\n"
    }
   }
  },
  {
   "cell_type": "markdown",
   "source": [
    "# Clothes 10-core"
   ],
   "metadata": {
    "collapsed": false
   }
  },
  {
   "cell_type": "code",
   "execution_count": 4,
   "outputs": [],
   "source": [
    "clothes_pdf = pd.read_parquet(data_root / 'interim' / 'Amazon' / 'Clothing_Shoes_and_Jewelry_clean.parquet')"
   ],
   "metadata": {
    "collapsed": false,
    "pycharm": {
     "name": "#%%\n"
    }
   }
  },
  {
   "cell_type": "code",
   "execution_count": 24,
   "outputs": [],
   "source": [
    "clothes_10_core_pdf = create_k_core(clothes_pdf, 10)"
   ],
   "metadata": {
    "collapsed": false,
    "pycharm": {
     "name": "#%%\n"
    }
   }
  },
  {
   "cell_type": "code",
   "execution_count": 30,
   "outputs": [],
   "source": [
    "clothes_10_core_pdf.to_parquet(project_root / 'Data' / 'clothes_10_core.parquet')"
   ],
   "metadata": {
    "collapsed": false,
    "pycharm": {
     "name": "#%%\n"
    }
   }
  },
  {
   "cell_type": "code",
   "execution_count": null,
   "outputs": [],
   "source": [],
   "metadata": {
    "collapsed": false,
    "pycharm": {
     "name": "#%%\n"
    }
   }
  }
 ],
 "metadata": {
  "kernelspec": {
   "display_name": "Python 3",
   "language": "python",
   "name": "python3"
  },
  "language_info": {
   "codemirror_mode": {
    "name": "ipython",
    "version": 2
   },
   "file_extension": ".py",
   "mimetype": "text/x-python",
   "name": "python",
   "nbconvert_exporter": "python",
   "pygments_lexer": "ipython2",
   "version": "2.7.6"
  }
 },
 "nbformat": 4,
 "nbformat_minor": 0
}