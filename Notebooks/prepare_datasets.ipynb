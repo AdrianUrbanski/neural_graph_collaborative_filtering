{
 "cells": [
  {
   "cell_type": "code",
   "execution_count": 1,
   "metadata": {
    "collapsed": true
   },
   "outputs": [],
   "source": [
    "import pandas as pd\n",
    "import numpy as np\n",
    "from pathlib import Path"
   ]
  },
  {
   "cell_type": "code",
   "execution_count": 2,
   "outputs": [],
   "source": [
    "data_root = Path('/pio/scratch/1/recommender_systems/')\n",
    "project_root = Path('/pio/scratch/1/i308362/NGCF/')"
   ],
   "metadata": {
    "collapsed": false,
    "pycharm": {
     "name": "#%%\n"
    }
   }
  },
  {
   "cell_type": "code",
   "execution_count": 3,
   "outputs": [],
   "source": [
    "def create_k_core(pdf, k, k_users=None, k_items=None):\n",
    "    if k_users is None:\n",
    "        k_users = k\n",
    "    if k_items is None:\n",
    "        k_items = k\n",
    "\n",
    "    while np.any(pdf['asin'].value_counts() < k_items) or np.any(pdf['reviewerID'].value_counts() < k_users):\n",
    "        items_to_keep = pdf['asin'].value_counts().where(lambda x: x >= k_items).dropna().index\n",
    "        users_to_keep = pdf['reviewerID'].value_counts().where(lambda x: x >= k_users).dropna().index\n",
    "        pdf = pdf[pdf['asin'].isin(items_to_keep) & pdf['reviewerID'].isin(users_to_keep)]\n",
    "\n",
    "    return pdf"
   ],
   "metadata": {
    "collapsed": false,
    "pycharm": {
     "name": "#%%\n"
    }
   }
  },
  {
   "cell_type": "markdown",
   "source": [
    "# Clothes"
   ],
   "metadata": {
    "collapsed": false,
    "pycharm": {
     "name": "#%% md\n"
    }
   }
  },
  {
   "cell_type": "markdown",
   "source": [
    "## Creating 10-core"
   ],
   "metadata": {
    "collapsed": false
   }
  },
  {
   "cell_type": "code",
   "execution_count": 21,
   "outputs": [],
   "source": [
    "clothes_pdf = pd.read_parquet(data_root / 'interim' / 'Amazon' / 'Clothing_Shoes_and_Jewelry_clean.parquet')"
   ],
   "metadata": {
    "collapsed": false,
    "pycharm": {
     "name": "#%%\n"
    }
   }
  },
  {
   "cell_type": "code",
   "execution_count": null,
   "outputs": [],
   "source": [
    "clothes_10_core_pdf = create_k_core(clothes_pdf, 10)"
   ],
   "metadata": {
    "collapsed": false,
    "pycharm": {
     "name": "#%%\n"
    }
   }
  },
  {
   "cell_type": "code",
   "execution_count": null,
   "outputs": [],
   "source": [
    "clothes_10_core_pdf.to_parquet(project_root / 'Data' / 'clothes_10_core.parquet')"
   ],
   "metadata": {
    "collapsed": false,
    "pycharm": {
     "name": "#%%\n"
    }
   }
  },
  {
   "cell_type": "markdown",
   "source": [
    "## Inactive users variant a - train test split"
   ],
   "metadata": {
    "collapsed": false
   }
  },
  {
   "cell_type": "code",
   "execution_count": 4,
   "outputs": [],
   "source": [
    "clothes_10_core_pdf = pd.read_parquet(project_root / 'Data' / 'clothes_10_core.parquet')"
   ],
   "metadata": {
    "collapsed": false,
    "pycharm": {
     "name": "#%%\n"
    }
   }
  },
  {
   "cell_type": "code",
   "execution_count": 8,
   "outputs": [],
   "source": [
    "test_users = np.random.choice(clothes_10_core_pdf['reviewerID'].value_counts().where(lambda x: x == 10).dropna().index, 10000, replace=False)"
   ],
   "metadata": {
    "collapsed": false,
    "pycharm": {
     "name": "#%%\n"
    }
   }
  },
  {
   "cell_type": "code",
   "execution_count": 13,
   "outputs": [],
   "source": [
    "train_pdf = []\n",
    "test_pdf = []\n",
    "\n",
    "for user, pdf in clothes_10_core_pdf.groupby('reviewerID'):\n",
    "    if user not in test_users:\n",
    "        train_pdf.append(pdf)\n",
    "    else:\n",
    "        sample_pdf = pdf.sample(5)\n",
    "        test_pdf.append(sample_pdf)\n",
    "        train_pdf.append(pdf[~pdf.index.isin(sample_pdf.index)])\n",
    "\n",
    "train_pdf = pd.concat(train_pdf)\n",
    "test_pdf = pd.concat(test_pdf)"
   ],
   "metadata": {
    "collapsed": false,
    "pycharm": {
     "name": "#%%\n"
    }
   }
  },
  {
   "cell_type": "code",
   "execution_count": 19,
   "outputs": [],
   "source": [
    "train_pdf.to_parquet(project_root / 'Data' / 'inactive_a_train.parquet')\n",
    "test_pdf.to_parquet(project_root / 'Data' / 'inactive_a_test.parquet')"
   ],
   "metadata": {
    "collapsed": false,
    "pycharm": {
     "name": "#%%\n"
    }
   }
  },
  {
   "cell_type": "markdown",
   "source": [
    "## Inactive users variant b"
   ],
   "metadata": {
    "collapsed": false
   }
  },
  {
   "cell_type": "code",
   "execution_count": 4,
   "outputs": [],
   "source": [
    "def get_inactive(pdf, k_users, k_items, max_users):\n",
    "    while(\n",
    "        np.any(pdf['asin'].value_counts() < k_items)\n",
    "        or np.any(pdf['reviewerID'].value_counts() < k_users)\n",
    "        or np.any(pdf['reviewerID'].value_counts() > max_users)\n",
    "    ):\n",
    "        items_to_keep = pdf['asin'].value_counts().where(lambda x: x >= k_items).dropna().index\n",
    "        users_to_keep = pdf['reviewerID'].value_counts().where(lambda x: (k_users <= x) & (x <= max_users)).dropna().index\n",
    "        pdf = pdf[pdf['asin'].isin(items_to_keep) & pdf['reviewerID'].isin(users_to_keep)]\n",
    "\n",
    "    return pdf"
   ],
   "metadata": {
    "collapsed": false,
    "pycharm": {
     "name": "#%%\n"
    }
   }
  },
  {
   "cell_type": "code",
   "execution_count": 5,
   "outputs": [],
   "source": [
    "clothes_pdf = pd.read_parquet(data_root / 'interim' / 'Amazon' / 'Clothing_Shoes_and_Jewelry_clean.parquet')"
   ],
   "metadata": {
    "collapsed": false,
    "pycharm": {
     "name": "#%%\n"
    }
   }
  },
  {
   "cell_type": "code",
   "execution_count": 9,
   "outputs": [],
   "source": [
    "inactive_pdf = get_inactive(clothes_pdf, 7, 10, 15)"
   ],
   "metadata": {
    "collapsed": false,
    "pycharm": {
     "name": "#%%\n"
    }
   }
  },
  {
   "cell_type": "code",
   "execution_count": 13,
   "outputs": [],
   "source": [
    "test_users = np.random.choice(inactive_pdf['reviewerID'].value_counts().where(lambda x: x == 10).dropna().index, 10000, replace=False)"
   ],
   "metadata": {
    "collapsed": false,
    "pycharm": {
     "name": "#%%\n"
    }
   }
  },
  {
   "cell_type": "code",
   "execution_count": 14,
   "outputs": [],
   "source": [
    "train_pdf = []\n",
    "test_pdf = []\n",
    "\n",
    "for user, pdf in inactive_pdf.groupby('reviewerID'):\n",
    "    if user not in test_users:\n",
    "        train_pdf.append(pdf)\n",
    "    else:\n",
    "        sample_pdf = pdf.sample(5)\n",
    "        test_pdf.append(sample_pdf)\n",
    "        train_pdf.append(pdf[~pdf.index.isin(sample_pdf.index)])\n",
    "\n",
    "train_pdf = pd.concat(train_pdf)\n",
    "test_pdf = pd.concat(test_pdf)"
   ],
   "metadata": {
    "collapsed": false,
    "pycharm": {
     "name": "#%%\n"
    }
   }
  },
  {
   "cell_type": "code",
   "execution_count": 18,
   "outputs": [],
   "source": [
    "train_pdf.to_parquet(project_root / 'Data' / 'inactive_b_train.parquet')\n",
    "test_pdf.to_parquet(project_root / 'Data' / 'inactive_b_test.parquet')"
   ],
   "metadata": {
    "collapsed": false,
    "pycharm": {
     "name": "#%%\n"
    }
   }
  },
  {
   "cell_type": "code",
   "execution_count": null,
   "outputs": [],
   "source": [],
   "metadata": {
    "collapsed": false,
    "pycharm": {
     "name": "#%%\n"
    }
   }
  }
 ],
 "metadata": {
  "kernelspec": {
   "display_name": "Python 3",
   "language": "python",
   "name": "python3"
  },
  "language_info": {
   "codemirror_mode": {
    "name": "ipython",
    "version": 2
   },
   "file_extension": ".py",
   "mimetype": "text/x-python",
   "name": "python",
   "nbconvert_exporter": "python",
   "pygments_lexer": "ipython2",
   "version": "2.7.6"
  }
 },
 "nbformat": 4,
 "nbformat_minor": 0
}